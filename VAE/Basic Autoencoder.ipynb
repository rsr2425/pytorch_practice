{
 "cells": [
  {
   "cell_type": "markdown",
   "metadata": {},
   "source": [
    "Inspired by this tutorial: https://github.com/MorvanZhou/PyTorch-Tutorial/blob/master/tutorial-contents/404_autoencoder.py"
   ]
  },
  {
   "cell_type": "code",
   "execution_count": 1,
   "metadata": {},
   "outputs": [],
   "source": [
    "import torch\n",
    "import torchvision as tv\n",
    "import torchvision.transforms as transforms\n",
    "import torch.nn as nn\n",
    "import torch.nn.functional as F\n",
    "\n",
    "from torch.autograd import Variable\n",
    "from torchvision.utils import save_image"
   ]
  },
  {
   "cell_type": "code",
   "execution_count": 3,
   "metadata": {},
   "outputs": [],
   "source": [
    "transform = transforms.Compose([transforms.ToTensor(),\n",
    "                transforms.Normalize((0.4914, 0.4822, 0.4466),\n",
    "                                     (0.247, 0.243, 0.261))])\n",
    "\n",
    "trainTransform  = tv.transforms.Compose([tv.transforms.ToTensor(),\n",
    "                    tv.transforms.Normalize((0.4914,0.4822, 0.4466),\n",
    "                                            (0.247, 0.243, 0.261))])\n",
    "\n",
    "trainset = tv.datasets.MNIST(root='./data',  train=True, download=True,\n",
    "                             transform=transform)\n",
    "\n",
    "\n",
    "dataloader = torch.utils.data.DataLoader(trainset, batch_size=32,\n",
    "                                         shuffle=False, num_workers=4)\n",
    "\n",
    "testset = tv.datasets.MNIST(root='./data', train=False, download=True,\n",
    "                              transform=transform)\n",
    "\n",
    "testloader = torch.utils.data.DataLoader(testset, batch_size=4,\n",
    "                                         shuffle=False, num_workers=2)"
   ]
  },
  {
   "cell_type": "code",
   "execution_count": 11,
   "metadata": {},
   "outputs": [
    {
     "data": {
      "text/plain": [
       "torch.Size([60000, 28, 28])"
      ]
     },
     "execution_count": 11,
     "metadata": {},
     "output_type": "execute_result"
    }
   ],
   "source": [
    "trainset.train_data"
   ]
  },
  {
   "cell_type": "code",
   "execution_count": 12,
   "metadata": {},
   "outputs": [
    {
     "data": {
      "text/plain": [
       "tensor([[  0,   0,   0,   0,   0,   0,   0,   0,   0,   0,   0,   0,   0,   0,\n",
       "           0,   0,   0,   0,   0,   0,   0,   0,   0,   0,   0,   0,   0,   0],\n",
       "        [  0,   0,   0,   0,   0,   0,   0,   0,   0,   0,   0,   0,   0,   0,\n",
       "           0,   0,   0,   0,   0,   0,   0,   0,   0,   0,   0,   0,   0,   0],\n",
       "        [  0,   0,   0,   0,   0,   0,   0,   0,   0,   0,   0,   0,   0,   0,\n",
       "           0,   0,   0,   0,   0,   0,   0,   0,   0,   0,   0,   0,   0,   0],\n",
       "        [  0,   0,   0,   0,   0,   0,   0,   0,   0,   0,   0,   0,   0,   0,\n",
       "           0,   0,   0,   0,   0,   0,   0,   0,   0,   0,   0,   0,   0,   0],\n",
       "        [  0,   0,   0,   0,   0,   0,   0,   0,   0,   0,   0,   0,   0,   0,\n",
       "           0,   0,   0,   0,   0,   0,   0,   0,   0,   0,   0,   0,   0,   0],\n",
       "        [  0,   0,   0,   0,   0,   0,   0,   0,   0,   0,   0,   0,   3,  18,\n",
       "          18,  18, 126, 136, 175,  26, 166, 255, 247, 127,   0,   0,   0,   0],\n",
       "        [  0,   0,   0,   0,   0,   0,   0,   0,  30,  36,  94, 154, 170, 253,\n",
       "         253, 253, 253, 253, 225, 172, 253, 242, 195,  64,   0,   0,   0,   0],\n",
       "        [  0,   0,   0,   0,   0,   0,   0,  49, 238, 253, 253, 253, 253, 253,\n",
       "         253, 253, 253, 251,  93,  82,  82,  56,  39,   0,   0,   0,   0,   0],\n",
       "        [  0,   0,   0,   0,   0,   0,   0,  18, 219, 253, 253, 253, 253, 253,\n",
       "         198, 182, 247, 241,   0,   0,   0,   0,   0,   0,   0,   0,   0,   0],\n",
       "        [  0,   0,   0,   0,   0,   0,   0,   0,  80, 156, 107, 253, 253, 205,\n",
       "          11,   0,  43, 154,   0,   0,   0,   0,   0,   0,   0,   0,   0,   0],\n",
       "        [  0,   0,   0,   0,   0,   0,   0,   0,   0,  14,   1, 154, 253,  90,\n",
       "           0,   0,   0,   0,   0,   0,   0,   0,   0,   0,   0,   0,   0,   0],\n",
       "        [  0,   0,   0,   0,   0,   0,   0,   0,   0,   0,   0, 139, 253, 190,\n",
       "           2,   0,   0,   0,   0,   0,   0,   0,   0,   0,   0,   0,   0,   0],\n",
       "        [  0,   0,   0,   0,   0,   0,   0,   0,   0,   0,   0,  11, 190, 253,\n",
       "          70,   0,   0,   0,   0,   0,   0,   0,   0,   0,   0,   0,   0,   0],\n",
       "        [  0,   0,   0,   0,   0,   0,   0,   0,   0,   0,   0,   0,  35, 241,\n",
       "         225, 160, 108,   1,   0,   0,   0,   0,   0,   0,   0,   0,   0,   0],\n",
       "        [  0,   0,   0,   0,   0,   0,   0,   0,   0,   0,   0,   0,   0,  81,\n",
       "         240, 253, 253, 119,  25,   0,   0,   0,   0,   0,   0,   0,   0,   0],\n",
       "        [  0,   0,   0,   0,   0,   0,   0,   0,   0,   0,   0,   0,   0,   0,\n",
       "          45, 186, 253, 253, 150,  27,   0,   0,   0,   0,   0,   0,   0,   0],\n",
       "        [  0,   0,   0,   0,   0,   0,   0,   0,   0,   0,   0,   0,   0,   0,\n",
       "           0,  16,  93, 252, 253, 187,   0,   0,   0,   0,   0,   0,   0,   0],\n",
       "        [  0,   0,   0,   0,   0,   0,   0,   0,   0,   0,   0,   0,   0,   0,\n",
       "           0,   0,   0, 249, 253, 249,  64,   0,   0,   0,   0,   0,   0,   0],\n",
       "        [  0,   0,   0,   0,   0,   0,   0,   0,   0,   0,   0,   0,   0,   0,\n",
       "          46, 130, 183, 253, 253, 207,   2,   0,   0,   0,   0,   0,   0,   0],\n",
       "        [  0,   0,   0,   0,   0,   0,   0,   0,   0,   0,   0,   0,  39, 148,\n",
       "         229, 253, 253, 253, 250, 182,   0,   0,   0,   0,   0,   0,   0,   0],\n",
       "        [  0,   0,   0,   0,   0,   0,   0,   0,   0,   0,  24, 114, 221, 253,\n",
       "         253, 253, 253, 201,  78,   0,   0,   0,   0,   0,   0,   0,   0,   0],\n",
       "        [  0,   0,   0,   0,   0,   0,   0,   0,  23,  66, 213, 253, 253, 253,\n",
       "         253, 198,  81,   2,   0,   0,   0,   0,   0,   0,   0,   0,   0,   0],\n",
       "        [  0,   0,   0,   0,   0,   0,  18, 171, 219, 253, 253, 253, 253, 195,\n",
       "          80,   9,   0,   0,   0,   0,   0,   0,   0,   0,   0,   0,   0,   0],\n",
       "        [  0,   0,   0,   0,  55, 172, 226, 253, 253, 253, 253, 244, 133,  11,\n",
       "           0,   0,   0,   0,   0,   0,   0,   0,   0,   0,   0,   0,   0,   0],\n",
       "        [  0,   0,   0,   0, 136, 253, 253, 253, 212, 135, 132,  16,   0,   0,\n",
       "           0,   0,   0,   0,   0,   0,   0,   0,   0,   0,   0,   0,   0,   0],\n",
       "        [  0,   0,   0,   0,   0,   0,   0,   0,   0,   0,   0,   0,   0,   0,\n",
       "           0,   0,   0,   0,   0,   0,   0,   0,   0,   0,   0,   0,   0,   0],\n",
       "        [  0,   0,   0,   0,   0,   0,   0,   0,   0,   0,   0,   0,   0,   0,\n",
       "           0,   0,   0,   0,   0,   0,   0,   0,   0,   0,   0,   0,   0,   0],\n",
       "        [  0,   0,   0,   0,   0,   0,   0,   0,   0,   0,   0,   0,   0,   0,\n",
       "           0,   0,   0,   0,   0,   0,   0,   0,   0,   0,   0,   0,   0,   0]],\n",
       "       dtype=torch.uint8)"
      ]
     },
     "execution_count": 12,
     "metadata": {},
     "output_type": "execute_result"
    }
   ],
   "source": [
    "trainset.train_data[0]"
   ]
  },
  {
   "cell_type": "code",
   "execution_count": 2,
   "metadata": {},
   "outputs": [],
   "source": [
    "class AutoEncoder(nn.Module):\n",
    "    def __init__(self):\n",
    "        super(AutoEncoder, self).__init__()\n",
    "        \n",
    "        self.encoder = nn.Sequential(\n",
    "            nn.Linear(28*28, 128),\n",
    "            nn.ReLU(),\n",
    "            nn.Linear(128, 64),\n",
    "            nn.ReLU(),\n",
    "            nn.Linear(64, 12),\n",
    "            nn.ReLU(),\n",
    "            nn.Linear(12, 3),\n",
    "        )\n",
    "        \n",
    "        self.decoder = nn.Sequential(\n",
    "            nn.Linear(3, 12),\n",
    "            nn.ReLU(),\n",
    "            nn.Linear(12, 64),\n",
    "            nn.ReLU(),\n",
    "            nn.Linear(64, 128),\n",
    "            nn.ReLU(),\n",
    "            nn.Linear(128, 28*28),\n",
    "        )\n",
    "    \n",
    "    def forward(self, x):\n",
    "        encoded = self.encoder(x)\n",
    "        decoded = self.decoder(encoded)\n",
    "        return decoded"
   ]
  },
  {
   "cell_type": "code",
   "execution_count": 36,
   "metadata": {},
   "outputs": [],
   "source": [
    "# Training Paramaters\n",
    "EPOCH = 10\n",
    "BATCH_SIZE = 64\n",
    "LR = 0.005"
   ]
  },
  {
   "cell_type": "code",
   "execution_count": 37,
   "metadata": {},
   "outputs": [],
   "source": [
    "autoencoder = AutoEncoder()\n",
    "autoencoder = autoencoder.cuda()\n",
    "\n",
    "optimizer = torch.optim.Adam(autoencoder.parameters(), lr=LR)\n",
    "loss_func = nn.MSELoss()"
   ]
  },
  {
   "cell_type": "code",
   "execution_count": 26,
   "metadata": {},
   "outputs": [
    {
     "name": "stdout",
     "output_type": "stream",
     "text": [
      "tensor([5, 0, 4, 1, 9, 2, 1, 3, 1, 4, 3, 5, 3, 6, 1, 7, 2, 8, 6, 9, 4, 0, 9, 1,\n",
      "        1, 2, 4, 3, 2, 7, 3, 8])\n",
      "torch.Size([32, 1, 28, 28])\n",
      "torch.Size([32])\n"
     ]
    }
   ],
   "source": [
    "for i, data in enumerate(dataloader, 0):\n",
    "    if i == 0:\n",
    "        print(data[1])\n",
    "        print(data[0].shape)\n",
    "        print(data[1].shape)"
   ]
  },
  {
   "cell_type": "code",
   "execution_count": 38,
   "metadata": {},
   "outputs": [
    {
     "name": "stdout",
     "output_type": "stream",
     "text": [
      "[1,   200] loss: 0.000487\n",
      "[1,   400] loss: 0.000435\n",
      "[1,   600] loss: 0.000479\n",
      "[1,   800] loss: 0.000401\n",
      "[1,  1000] loss: 0.000409\n",
      "[1,  1200] loss: 0.000371\n",
      "[1,  1400] loss: 0.000344\n",
      "[1,  1600] loss: 0.000364\n",
      "[1,  1800] loss: 0.000376\n",
      "[2,   200] loss: 0.000332\n",
      "[2,   400] loss: 0.000314\n",
      "[2,   600] loss: 0.000361\n",
      "[2,   800] loss: 0.000323\n",
      "[2,  1000] loss: 0.000325\n",
      "[2,  1200] loss: 0.000320\n",
      "[2,  1400] loss: 0.000290\n",
      "[2,  1600] loss: 0.000317\n",
      "[2,  1800] loss: 0.000365\n",
      "[3,   200] loss: 0.000301\n",
      "[3,   400] loss: 0.000288\n",
      "[3,   600] loss: 0.000327\n",
      "[3,   800] loss: 0.000296\n",
      "[3,  1000] loss: 0.000300\n",
      "[3,  1200] loss: 0.000308\n",
      "[3,  1400] loss: 0.000275\n",
      "[3,  1600] loss: 0.000307\n",
      "[3,  1800] loss: 0.000327\n",
      "[4,   200] loss: 0.000282\n",
      "[4,   400] loss: 0.000292\n",
      "[4,   600] loss: 0.000309\n",
      "[4,   800] loss: 0.000298\n",
      "[4,  1000] loss: 0.000293\n",
      "[4,  1200] loss: 0.000292\n",
      "[4,  1400] loss: 0.000271\n",
      "[4,  1600] loss: 0.000297\n",
      "[4,  1800] loss: 0.000318\n",
      "[5,   200] loss: 0.000277\n",
      "[5,   400] loss: 0.000279\n",
      "[5,   600] loss: 0.000312\n",
      "[5,   800] loss: 0.000287\n",
      "[5,  1000] loss: 0.000289\n",
      "[5,  1200] loss: 0.000295\n",
      "[5,  1400] loss: 0.000267\n",
      "[5,  1600] loss: 0.000297\n",
      "[5,  1800] loss: 0.000314\n",
      "[6,   200] loss: 0.000281\n",
      "[6,   400] loss: 0.000287\n",
      "[6,   600] loss: 0.000314\n",
      "[6,   800] loss: 0.000304\n",
      "[6,  1000] loss: 0.000298\n",
      "[6,  1200] loss: 0.000289\n",
      "[6,  1400] loss: 0.000270\n",
      "[6,  1600] loss: 0.000296\n",
      "[6,  1800] loss: 0.000313\n",
      "[7,   200] loss: 0.000288\n",
      "[7,   400] loss: 0.000272\n",
      "[7,   600] loss: 0.000308\n",
      "[7,   800] loss: 0.000295\n",
      "[7,  1000] loss: 0.000288\n",
      "[7,  1200] loss: 0.000296\n",
      "[7,  1400] loss: 0.000267\n",
      "[7,  1600] loss: 0.000293\n",
      "[7,  1800] loss: 0.000311\n",
      "[8,   200] loss: 0.000273\n",
      "[8,   400] loss: 0.000274\n",
      "[8,   600] loss: 0.000327\n",
      "[8,   800] loss: 0.000295\n",
      "[8,  1000] loss: 0.000290\n",
      "[8,  1200] loss: 0.000296\n",
      "[8,  1400] loss: 0.000269\n",
      "[8,  1600] loss: 0.000297\n",
      "[8,  1800] loss: 0.000307\n",
      "[9,   200] loss: 0.000281\n",
      "[9,   400] loss: 0.000293\n",
      "[9,   600] loss: 0.000312\n",
      "[9,   800] loss: 0.000288\n",
      "[9,  1000] loss: 0.000289\n",
      "[9,  1200] loss: 0.000292\n",
      "[9,  1400] loss: 0.000264\n",
      "[9,  1600] loss: 0.000289\n",
      "[9,  1800] loss: 0.000302\n",
      "[10,   200] loss: 0.000276\n",
      "[10,   400] loss: 0.000269\n",
      "[10,   600] loss: 0.000316\n",
      "[10,   800] loss: 0.000286\n",
      "[10,  1000] loss: 0.000285\n",
      "[10,  1200] loss: 0.000283\n",
      "[10,  1400] loss: 0.000260\n",
      "[10,  1600] loss: 0.000291\n",
      "[10,  1800] loss: 0.000311\n",
      "Finished Training!\n"
     ]
    }
   ],
   "source": [
    "for epoch in range(EPOCH):\n",
    "    \n",
    "        running_loss = 0.0\n",
    "        for i, data in enumerate(dataloader, 0):\n",
    "            inputs, labels = data\n",
    "            inputs = inputs.cuda()\n",
    "            \n",
    "            inputs = inputs.view(-1, 28*28)\n",
    "            \n",
    "            optimizer.zero_grad()\n",
    "            \n",
    "            outputs = autoencoder(inputs)\n",
    "            loss = loss_func(outputs, inputs)\n",
    "            loss.backward()\n",
    "            optimizer.step()\n",
    "            \n",
    "            running_loss += loss.item()\n",
    "            \n",
    "            if i % 200 == 199:    # print every 200 mini-batches\n",
    "                print('[%d, %5d] loss: %.6f' %\n",
    "                  (epoch + 1, i + 1, running_loss / 2000))\n",
    "            running_loss = 0.0\n",
    "\n",
    "print('Finished Training!')"
   ]
  },
  {
   "cell_type": "code",
   "execution_count": 8,
   "metadata": {},
   "outputs": [],
   "source": [
    "import matplotlib.pyplot as plt\n",
    "import numpy as np\n",
    "\n",
    "# functions to show an image\n",
    "\n",
    "\n",
    "def imshow(img):\n",
    "    img = img / 2 + 0.5     # unnormalize\n",
    "    npimg = img.detach().numpy()\n",
    "    plt.imshow(np.transpose(npimg, (1, 2, 0)))\n",
    "    plt.show()"
   ]
  },
  {
   "cell_type": "code",
   "execution_count": 58,
   "metadata": {
    "scrolled": true
   },
   "outputs": [
    {
     "name": "stderr",
     "output_type": "stream",
     "text": [
      "Clipping input data to the valid range for imshow with RGB data ([0..1] for floats or [0..255] for integers).\n"
     ]
    },
    {
     "data": {
      "image/png": "[encoded data removed]",
      "text/plain": [
       "<Figure size 432x288 with 1 Axes>"
      ]
     },
     "metadata": {
      "needs_background": "light"
     },
     "output_type": "display_data"
    }
   ],
   "source": [
    "dataiter = iter(dataloader)\n",
    "images, labels = dataiter.next()\n",
    "\n",
    "# print images\n",
    "images.shape\n",
    "imshow(tv.utils.make_grid(images))\n",
    "#print('GroundTruth: ', ' '.join('%5s' % classes[labels[j]]\n",
    "#                                for j in range(4)))"
   ]
  },
  {
   "cell_type": "code",
   "execution_count": 60,
   "metadata": {},
   "outputs": [
    {
     "name": "stderr",
     "output_type": "stream",
     "text": [
      "Clipping input data to the valid range for imshow with RGB data ([0..1] for floats or [0..255] for integers).\n"
     ]
    },
    {
     "data": {
      "image/png": "[encoded data removed]",
      "text/plain": [
       "<Figure size 432x288 with 1 Axes>"
      ]
     },
     "metadata": {
      "needs_background": "light"
     },
     "output_type": "display_data"
    }
   ],
   "source": [
    "dataiter = iter(dataloader)\n",
    "images, labels = dataiter.next()\n",
    "\n",
    "# print images\n",
    "images.shape\n",
    "imshow(tv.utils.make_grid(images, nrow=32))"
   ]
  },
  {
   "cell_type": "code",
   "execution_count": 57,
   "metadata": {},
   "outputs": [
    {
     "name": "stderr",
     "output_type": "stream",
     "text": [
      "Clipping input data to the valid range for imshow with RGB data ([0..1] for floats or [0..255] for integers).\n"
     ]
    },
    {
     "data": {
      "image/png": "[encoded data removed]",
      "text/plain": [
       "<Figure size 432x288 with 1 Axes>"
      ]
     },
     "metadata": {
      "needs_background": "light"
     },
     "output_type": "display_data"
    }
   ],
   "source": [
    "images = images.view(-1, 28*28)\n",
    "images = images.cuda()\n",
    "outputs = autoencoder(images)\n",
    "outputs = outputs.cpu()\n",
    "outputs = outputs.view(-1, 28, 28)\n",
    "outputs = outputs.view(-1, 1, 28, 28)\n",
    "outputs.shape\n",
    "imshow(tv.utils.make_grid(outputs))"
   ]
  },
  {
   "cell_type": "code",
   "execution_count": 21,
   "metadata": {},
   "outputs": [
    {
     "data": {
      "image/png": "[encoded data removed]",
      "text/plain": [
       "<Figure size 432x288 with 1 Axes>"
      ]
     },
     "metadata": {
      "needs_background": "light"
     },
     "output_type": "display_data"
    }
   ],
   "source": [
    "untrained = AutoEncoder()\n",
    "untrained = untrained.cuda()\n",
    "\n",
    "images = images.view(-1, 28*28)\n",
    "images = images.cuda()\n",
    "outputs = untrained(images)\n",
    "outputs = outputs.cpu()\n",
    "outputs = outputs.view(-1, 28, 28)\n",
    "outputs = outputs.view(-1, 1, 28, 28)\n",
    "outputs.shape\n",
    "imshow(tv.utils.make_grid(outputs))"
   ]
  },
  {
   "cell_type": "code",
   "execution_count": 64,
   "metadata": {},
   "outputs": [
    {
     "name": "stderr",
     "output_type": "stream",
     "text": [
      "Clipping input data to the valid range for imshow with RGB data ([0..1] for floats or [0..255] for integers).\n"
     ]
    },
    {
     "data": {
      "image/png": "[encoded data removed]",
      "text/plain": [
       "<Figure size 432x288 with 1 Axes>"
      ]
     },
     "metadata": {
      "needs_background": "light"
     },
     "output_type": "display_data"
    },
    {
     "data": {
      "text/plain": [
       "tensor([[-2.1495e+00,  7.0253e-02,  2.1295e+00],\n",
       "        [ 1.9855e-02,  1.8730e+00,  1.0457e+00],\n",
       "        [-5.5029e+00,  3.3092e+00, -1.5271e+01],\n",
       "        [-3.2782e+01,  2.7329e-01,  2.0348e+01],\n",
       "        [-7.9196e+00,  2.7043e+00, -4.2962e+00],\n",
       "        [-1.4882e+01, -1.6633e+01,  1.5938e+01],\n",
       "        [-2.3561e+01, -2.4570e+01, -6.2539e+00],\n",
       "        [-2.8374e+00, -2.6913e+00,  3.3589e+00],\n",
       "        [-2.5196e+01, -2.3791e+01, -3.3250e+00],\n",
       "        [-9.8417e+00,  1.5350e+01,  3.4958e-01],\n",
       "        [-1.6748e+00, -2.6807e+00,  1.7661e+00],\n",
       "        [-1.0074e+01,  1.2751e+01,  1.3830e+01],\n",
       "        [ 3.5307e-01, -4.9468e+00, -1.0342e+00],\n",
       "        [-1.5145e+00,  3.5355e+00, -1.5720e+00],\n",
       "        [-2.7308e+01, -2.4237e+01, -1.0127e+00],\n",
       "        [-3.3481e+01,  2.8747e+01, -4.3281e+00],\n",
       "        [-8.2098e+00, -1.3729e+01,  8.4721e+00],\n",
       "        [-1.0555e+01,  1.6010e+00,  7.5778e+00],\n",
       "        [-2.5614e+00,  1.3405e+00, -4.4140e-01],\n",
       "        [-1.8820e+01,  6.9440e+00,  2.9812e+00],\n",
       "        [-1.9339e+00, -1.0025e-01, -1.0416e+01],\n",
       "        [ 5.9663e-01,  1.8908e+00,  9.4912e-01],\n",
       "        [-1.2063e+01,  7.8900e+00,  1.8058e+00],\n",
       "        [-3.2684e+01, -2.9232e-01,  2.0896e+01],\n",
       "        [-4.1181e+00, -8.1159e-01,  4.9196e-01],\n",
       "        [-8.5068e-01, -7.9248e+00,  1.5200e+00],\n",
       "        [-7.7065e+00,  9.8616e-01, -4.1978e+00],\n",
       "        [-9.4540e-01, -3.8867e+00,  2.5185e+00],\n",
       "        [-6.0893e+00, -6.2647e+00, -5.1508e+00],\n",
       "        [-1.4845e+01,  1.5359e+01,  7.3451e+00],\n",
       "        [-3.7432e+00, -6.1429e+00, -6.5172e+00],\n",
       "        [-8.7957e+00,  8.0022e-01,  8.1158e+00]], grad_fn=<CopyBackwards>)"
      ]
     },
     "execution_count": 64,
     "metadata": {},
     "output_type": "execute_result"
    }
   ],
   "source": [
    "dataiter = iter(dataloader)\n",
    "images, labels = dataiter.next()\n",
    "\n",
    "# print images\n",
    "images.shape\n",
    "imshow(tv.utils.make_grid(images))\n",
    "\n",
    "images = images.view(-1, 28*28)\n",
    "images = images.cuda()\n",
    "\n",
    "outputs = autoencoder.encoder(images)\n",
    "outputs = outputs.cpu()\n",
    "outputs"
   ]
  },
  {
   "cell_type": "code",
   "execution_count": 66,
   "metadata": {},
   "outputs": [
    {
     "data": {
      "text/plain": [
       "tensor([-2.1495,  0.0703,  2.1295], grad_fn=<SelectBackward>)"
      ]
     },
     "execution_count": 66,
     "metadata": {},
     "output_type": "execute_result"
    }
   ],
   "source": [
    "outputs[0]"
   ]
  },
  {
   "cell_type": "code",
   "execution_count": 68,
   "metadata": {},
   "outputs": [],
   "source": [
    "import numpy as np"
   ]
  },
  {
   "cell_type": "code",
   "execution_count": 74,
   "metadata": {},
   "outputs": [
    {
     "data": {
      "text/plain": [
       "3.0265517"
      ]
     },
     "execution_count": 74,
     "metadata": {},
     "output_type": "execute_result"
    }
   ],
   "source": [
    "np.linalg.norm(outputs[0].data.numpy())"
   ]
  },
  {
   "cell_type": "code",
   "execution_count": 75,
   "metadata": {},
   "outputs": [
    {
     "name": "stdout",
     "output_type": "stream",
     "text": [
      "Norm of vector 0: 3.0265517234802246\n",
      "Norm of vector 1: 2.1452131271362305\n",
      "Norm of vector 2: 16.5660343170166\n",
      "Norm of vector 3: 38.58437728881836\n",
      "Norm of vector 4: 9.406962394714355\n",
      "Norm of vector 5: 27.425493240356445\n",
      "Norm of vector 6: 34.61091995239258\n",
      "Norm of vector 7: 5.155178070068359\n",
      "Norm of vector 8: 34.811866760253906\n",
      "Norm of vector 9: 18.23744010925293\n",
      "Norm of vector 10: 3.62085223197937\n",
      "Norm of vector 11: 21.33877182006836\n",
      "Norm of vector 12: 5.066090106964111\n",
      "Norm of vector 13: 4.155058860778809\n",
      "Norm of vector 14: 36.52593994140625\n",
      "Norm of vector 15: 44.34043502807617\n",
      "Norm of vector 16: 18.101255416870117\n",
      "Norm of vector 17: 13.092142105102539\n",
      "Norm of vector 18: 2.924463987350464\n",
      "Norm of vector 19: 20.280290603637695\n",
      "Norm of vector 20: 10.594526290893555\n",
      "Norm of vector 21: 2.1981770992279053\n",
      "Norm of vector 22: 14.526735305786133\n",
      "Norm of vector 23: 38.794036865234375\n",
      "Norm of vector 24: 4.226053237915039\n",
      "Norm of vector 25: 8.113931655883789\n",
      "Norm of vector 26: 8.830864906311035\n",
      "Norm of vector 27: 4.726860523223877\n",
      "Norm of vector 28: 10.141823768615723\n",
      "Norm of vector 29: 22.588253021240234\n",
      "Norm of vector 30: 9.706698417663574\n",
      "Norm of vector 31: 11.994648933410645\n"
     ]
    }
   ],
   "source": [
    "for i, a in enumerate(outputs):\n",
    "    print(f'Norm of vector {i}: {np.linalg.norm(a.data.numpy())}')"
   ]
  },
  {
   "cell_type": "code",
   "execution_count": 76,
   "metadata": {},
   "outputs": [
    {
     "name": "stdout",
     "output_type": "stream",
     "text": [
      "Norm of v0 from v0 is: 1.0\n",
      "Norm of v1 from v0 is: 0.35667678713798523\n",
      "Norm of v2 from v0 is: -0.40805351734161377\n",
      "Norm of v3 from v0 is: 0.9746179580688477\n",
      "Norm of v4 from v0 is: 0.2832350730895996\n",
      "Norm of v5 from v0 is: 0.7802078127861023\n",
      "Norm of v6 from v0 is: 0.3398502469062805\n",
      "Norm of v7 from v0 is: 0.8372135162353516\n",
      "Norm of v8 from v0 is: 0.4309510290622711\n",
      "Norm of v9 from v0 is: 0.4162777066230774\n",
      "Norm of v10 from v0 is: 0.654513418674469\n",
      "Norm of v11 from v0 is: 0.8051915168762207\n",
      "Norm of v12 from v0 is: -0.21580292284488678\n",
      "Norm of v13 from v0 is: 0.012416668236255646\n",
      "Norm of v14 from v0 is: 0.4960496723651886\n",
      "Norm of v15 from v0 is: 0.48262590169906616\n",
      "Norm of v16 from v0 is: 0.6338276863098145\n",
      "Norm of v17 from v0 is: 0.9826911091804504\n",
      "Norm of v18 from v0 is: 0.5264742970466614\n",
      "Norm of v19 from v0 is: 0.7704346179962158\n",
      "Norm of v20 from v0 is: -0.5623404383659363\n",
      "Norm of v21 from v0 is: 0.13100995123386383\n",
      "Norm of v22 from v0 is: 0.6898186206817627\n",
      "Norm of v23 from v0 is: 0.9771673083305359\n",
      "Norm of v24 from v0 is: 0.7695115804672241\n",
      "Norm of v25 from v0 is: 0.18359285593032837\n",
      "Norm of v26 from v0 is: 0.287904292345047\n",
      "Norm of v27 from v0 is: 0.4978490471839905\n",
      "Norm of v28 from v0 is: 0.054730530828237534\n",
      "Norm of v29 from v0 is: 0.7113279700279236\n",
      "Norm of v30 from v0 is: -0.21322833001613617\n",
      "Norm of v31 from v0 is: 0.9984225034713745\n"
     ]
    }
   ],
   "source": [
    "from scipy import spatial\n",
    "\n",
    "for i, a in enumerate(outputs):\n",
    "    print(f'Norm of v{i} from v0 is: {1-spatial.distance.cosine(a.data.numpy(), outputs[0].data.numpy())}')"
   ]
  },
  {
   "cell_type": "code",
   "execution_count": 81,
   "metadata": {},
   "outputs": [
    {
     "ename": "ModuleNotFoundError",
     "evalue": "No module named 'metrics'",
     "output_type": "error",
     "traceback": [
      "\u001b[0;31m---------------------------------------------------------------------------\u001b[0m",
      "\u001b[0;31mModuleNotFoundError\u001b[0m                       Traceback (most recent call last)",
      "\u001b[0;32m<ipython-input-81-76813a3d7cce>\u001b[0m in \u001b[0;36m<module>\u001b[0;34m\u001b[0m\n\u001b[0;32m----> 1\u001b[0;31m \u001b[0;32mfrom\u001b[0m \u001b[0mmetrics\u001b[0m\u001b[0;34m.\u001b[0m\u001b[0mpairwise\u001b[0m \u001b[0;32mimport\u001b[0m \u001b[0mcosine_similarity\u001b[0m\u001b[0;34m\u001b[0m\u001b[0;34m\u001b[0m\u001b[0m\n\u001b[0m\u001b[1;32m      2\u001b[0m \u001b[0;34m\u001b[0m\u001b[0m\n\u001b[1;32m      3\u001b[0m \u001b[0;32mfor\u001b[0m \u001b[0mi\u001b[0m\u001b[0;34m,\u001b[0m \u001b[0ma\u001b[0m \u001b[0;32min\u001b[0m \u001b[0menumerate\u001b[0m\u001b[0;34m(\u001b[0m\u001b[0moutputs\u001b[0m\u001b[0;34m)\u001b[0m\u001b[0;34m:\u001b[0m\u001b[0;34m\u001b[0m\u001b[0;34m\u001b[0m\u001b[0m\n\u001b[1;32m      4\u001b[0m     \u001b[0mprint\u001b[0m\u001b[0;34m(\u001b[0m\u001b[0;34mf'Norm of v{i} from v0 is: {cosine_similarity(a.data.numpy(), outputs[0].data.numpy())}'\u001b[0m\u001b[0;34m)\u001b[0m\u001b[0;34m\u001b[0m\u001b[0;34m\u001b[0m\u001b[0m\n",
      "\u001b[0;31mModuleNotFoundError\u001b[0m: No module named 'metrics'"
     ]
    }
   ],
   "source": [
    "from sklearn.metrics.pairwise import cosine_similarity\n",
    "\n",
    "for i, a in enumerate(outputs):\n",
    "    print(f'Norm of v{i} from v0 is: {cosine_similarity(a.data.numpy(), outputs[0].data.numpy())}')"
   ]
  },
  {
   "cell_type": "code",
   "execution_count": 79,
   "metadata": {},
   "outputs": [],
   "source": [
    "from fastai import *"
   ]
  },
  {
   "cell_type": "code",
   "execution_count": null,
   "metadata": {},
   "outputs": [],
   "source": []
  }
 ],
 "metadata": {
  "kernelspec": {
   "display_name": "pytorch_fastai",
   "language": "python",
   "name": "python3"
  },
  "language_info": {
   "codemirror_mode": {
    "name": "ipython",
    "version": 3
   },
   "file_extension": ".py",
   "mimetype": "text/x-python",
   "name": "python",
   "nbconvert_exporter": "python",
   "pygments_lexer": "ipython3",
   "version": "3.7.1"
  }
 },
 "nbformat": 4,
 "nbformat_minor": 2
}
